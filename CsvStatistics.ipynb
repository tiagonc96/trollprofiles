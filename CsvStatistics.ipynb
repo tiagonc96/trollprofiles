{
 "cells": [
  {
   "cell_type": "code",
   "execution_count": 6,
   "metadata": {},
   "outputs": [],
   "source": [
    "import pandas as pd\n",
    "import csv\n",
    "\n",
    "trolls= pd.read_csv(\"C:\\\\Users\\\\tiago\\\\Desktop\\\\tese\\\\codigo\\\\pythonnotebooks\\\\trollTweets.csv\",sep=\"\\t\",quoting=csv.QUOTE_NONE, encoding='utf-16',error_bad_lines=False,index_col = False)\n",
    "normal= pd.read_csv(\"C:\\\\Users\\\\tiago\\\\Desktop\\\\tese\\\\codigo\\\\pythonnotebooks\\\\regularTweets.csv\",sep=\"\\t\", encoding='utf-16',error_bad_lines=False)\n",
    "\n",
    "\n",
    "\n",
    "trollHours=[]\n",
    "normalHours=[]\n",
    "\n",
    "for times in trolls['time_of_comment']:\n",
    "    try:\n",
    "        if(len(times)==8):\n",
    "            trollHours.append(times)\n",
    "    except:\n",
    "        pass\n",
    "        \n",
    "\n",
    "for times in normal['time_of_comment']:\n",
    "     try:\n",
    "        if(len(times)==8):\n",
    "            normalHours.append(times)\n",
    "     except:\n",
    "        pass"
   ]
  },
  {
   "cell_type": "code",
   "execution_count": 8,
   "metadata": {},
   "outputs": [
    {
     "name": "stdout",
     "output_type": "stream",
     "text": [
      "Trolls\n",
      "Time of Comment: 15:00:53.181939\n",
      "Sentiment Polarity: 0.7094240837696335\n",
      "Tweet Length: 102.45287958115183\n",
      "Nr of Stopwords: 4.221204188481676\n",
      "Nr of Hashtags: 0.051047120418848166\n",
      "Nr of Mentions: 1.2290575916230366\n",
      "Nr of Urls: 0.524869109947644\n",
      "Nr of Emoticons: 0.002617801047120419\n",
      "Nr of Swearwords: 0.04057591623036649\n",
      "Nr of Favorites: 0.024869109947643978\n",
      "Nr of Verbs: 2.175392670157068\n",
      "Nr of Nouns: 2.56020942408377\n",
      "Nr of Adjectives: 0.6248825345683985\n",
      "All Caps To Word Ratio: 0.07468364064729041\n",
      "\n",
      " --------------------------------------------------------- \n",
      "\n",
      "Non Trolls\n",
      "Time of Comment: 11:05:52.675314\n",
      "Sentiment Polarity: 0.055744888023369035\n",
      "Tweet Length: 101.63132911392405\n",
      "Nr of Stopwords: 4.453728497241156\n",
      "Nr of Hashtags: 0.13922304493356324\n",
      "Nr of Mentions: 1.0834263449479473\n",
      "Nr of Urls: 0.3279176434614208\n",
      "Nr of Emoticons: 0.00529409020943141\n",
      "Nr of Swearwords: 0.12704884777669587\n",
      "Nr of Favorites: 0.005943687114573191\n",
      "Nr of Verbs: 2.421798928919182\n",
      "Nr of Nouns: 2.4059400040572068\n",
      "Nr of Adjectives: 0.6916495673734955\n",
      "All Caps To Word Ratio: 0.040725265283487536\n"
     ]
    }
   ],
   "source": [
    "\n",
    "\n",
    "print(\"Trolls\")\n",
    "\n",
    "print(\"Time of Comment: \"+ mean_times(trollHours))\n",
    "print(\"Sentiment Polarity: \"+str(trolls['sentimentPolarity'].mean()))\n",
    "print(\"Tweet Length: \"+str(trolls['tweetLength'].mean()))\n",
    "print(\"Nr of Stopwords: \"+str(trolls['nrStopwords'].mean()))\n",
    "print(\"Nr of Hashtags: \"+str(trolls['nrHashtags'].mean()))\n",
    "print(\"Nr of Mentions: \"+str(trolls['nrMentions'].mean()))\n",
    "print(\"Nr of Urls: \"+str(trolls['nrUrls'].mean()))\n",
    "print(\"Nr of Emoticons: \"+str(trolls['nrEmoticons'].mean()))\n",
    "print(\"Nr of Swearwords: \"+str(trolls['nrSwears'].mean()))\n",
    "print(\"Nr of Favorites: \"+str(trolls['nrFavs'].mean()))\n",
    "print(\"Nr of Verbs: \"+str(trolls['nrVerbs'].mean()))\n",
    "print(\"Nr of Nouns: \"+str(trolls['nrNouns'].mean()))\n",
    "print(\"Nr of Adjectives: \"+str(trolls['nrAdjectives'].mean()))\n",
    "print(\"All Caps To Word Ratio: \"+str(trolls['allCapsToWordRatio'].mean()))\n",
    "\n",
    "print(\"\\n --------------------------------------------------------- \\n\")\n",
    "\n",
    "\n",
    "print(\"Non Trolls\")\n",
    "print(\"Time of Comment: \"+ mean_times(normalHours))\n",
    "print(\"Sentiment Polarity: \"+str(normal['sentimentPolarity'].mean()))\n",
    "print(\"Tweet Length: \"+str(normal['tweetLength'].mean()))\n",
    "print(\"Nr of Stopwords: \"+str(normal['nrStopwords'].mean()))\n",
    "print(\"Nr of Hashtags: \"+str(normal['nrHashtags'].mean()))\n",
    "print(\"Nr of Mentions: \"+str(normal['nrMentions'].mean()))\n",
    "print(\"Nr of Urls: \"+str(normal['nrUrls'].mean()))\n",
    "print(\"Nr of Emoticons: \"+str(normal['nrEmoticons'].mean()))\n",
    "print(\"Nr of Swearwords: \"+str(normal['nrSwears'].mean()))\n",
    "print(\"Nr of Favorites: \"+str(normal['nrFavs'].mean()))\n",
    "print(\"Nr of Verbs: \"+str(normal['nrVerbs'].mean()))\n",
    "print(\"Nr of Nouns: \"+str(normal['nrNouns'].mean()))\n",
    "print(\"Nr of Adjectives: \"+str(normal['nrAdjectives'].mean()))\n",
    "print(\"All Caps To Word Ratio: \"+str(normal['allCapsToWordRatio'].mean()))"
   ]
  },
  {
   "cell_type": "markdown",
   "metadata": {},
   "source": []
  },
  {
   "cell_type": "code",
   "execution_count": null,
   "metadata": {},
   "outputs": [],
   "source": [
    "teste=[]\n",
    "\n",
    "for time in normal['time_of_comment']:\n",
    "    teste.append(time)\n",
    "\n",
    "mean_times(teste)"
   ]
  },
  {
   "cell_type": "code",
   "execution_count": null,
   "metadata": {},
   "outputs": [],
   "source": []
  },
  {
   "cell_type": "code",
   "execution_count": 7,
   "metadata": {},
   "outputs": [],
   "source": [
    "def mean_times(teste):\n",
    "\n",
    "    from datetime import timedelta\n",
    "\n",
    "    times = teste\n",
    "\n",
    "    return str(timedelta(seconds=sum(map(lambda f: int(f[0])*3600 + int(f[1])*60 + int(f[2]), map(lambda f: f.split(':'), times)))/len(times)))"
   ]
  },
  {
   "cell_type": "code",
   "execution_count": 4,
   "metadata": {},
   "outputs": [
    {
     "data": {
      "text/plain": [
       "42617"
      ]
     },
     "execution_count": 4,
     "metadata": {},
     "output_type": "execute_result"
    }
   ],
   "source": [
    "len(normal)"
   ]
  },
  {
   "cell_type": "code",
   "execution_count": null,
   "metadata": {},
   "outputs": [],
   "source": []
  }
 ],
 "metadata": {
  "kernelspec": {
   "display_name": "Python 3",
   "language": "python",
   "name": "python3"
  },
  "language_info": {
   "codemirror_mode": {
    "name": "ipython",
    "version": 3
   },
   "file_extension": ".py",
   "mimetype": "text/x-python",
   "name": "python",
   "nbconvert_exporter": "python",
   "pygments_lexer": "ipython3",
   "version": "3.8.2"
  }
 },
 "nbformat": 4,
 "nbformat_minor": 4
}
