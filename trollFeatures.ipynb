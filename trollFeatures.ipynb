{
 "cells": [
  {
   "cell_type": "code",
   "execution_count": 3,
   "metadata": {},
   "outputs": [
    {
     "name": "stdout",
     "output_type": "stream",
     "text": [
      "nao deu\n",
      "nao deu\n",
      "nao deu\n",
      "nao deu\n",
      "nao deu\n",
      "nao deu\n",
      "D:\\socialbus\\users\\192.168.1.219\\json\\2020\\02\\12\\16\n",
      "deu\n",
      "D:\\socialbus\\users\\192.168.1.219\\json\\2020\\02\\12\\17\n",
      "deu\n",
      "nao deu\n",
      "nao deu\n",
      "nao deu\n",
      "nao deu\n",
      "nao deu\n",
      "D:\\socialbus\\users\\192.168.1.4\\json\\2020\\02\\12\\13\n",
      "deu\n",
      "D:\\socialbus\\users\\192.168.1.4\\json\\2020\\02\\12\\14\n",
      "deu\n",
      "D:\\socialbus\\users\\192.168.1.4\\json\\2020\\02\\12\\15\n",
      "deu\n",
      "nao deu\n",
      "nao deu\n",
      "nao deu\n",
      "nao deu\n",
      "nao deu\n",
      "D:\\socialbus\\users\\192.168.1.75\\json\\2020\\02\\11\\22\n",
      "deu\n",
      "D:\\socialbus\\users\\192.168.1.75\\json\\2020\\02\\11\\23\n",
      "deu\n",
      "nao deu\n",
      "D:\\socialbus\\users\\192.168.1.75\\json\\2020\\02\\12\\21\n",
      "deu\n",
      "D:\\socialbus\\users\\192.168.1.75\\json\\2020\\02\\12\\22\n",
      "deu\n",
      "D:\\socialbus\\users\\192.168.1.75\\json\\2020\\02\\12\\23\n",
      "deu\n",
      "nao deu\n",
      "nao deu\n",
      "nao deu\n",
      "nao deu\n",
      "nao deu\n",
      "D:\\socialbus\\users\\192.168.81.119\\json\\2020\\02\\13\\15\n",
      "deu\n"
     ]
    }
   ],
   "source": [
    "import pandas as pd\n",
    "import os\n",
    "import json\n",
    "import glob\n",
    "from datetime import datetime \n",
    "\n",
    "#for filename in os.listdir(\"D:\\\\socialbus\\\\users\\\\192.168.1.75\\\\json\\\\2020\\\\02\\\\08\\\\\"):\n",
    "filenames=[]\n",
    "jsons=[]\n",
    "for filename in glob.iglob(\"D:\\\\socialbus\\\\users\\\\*\" + '*', recursive=True):\n",
    "    try:\n",
    "        jsons.append(pd.read_json(filename,lines=True))\n",
    "        print(filename)\n",
    "        print(\"deu\")\n",
    "    except:\n",
    "        #filenames.remove(filename)\n",
    "        #print(filename)\n",
    "        print(\"nao deu\")\n",
    "        "
   ]
  },
  {
   "cell_type": "code",
   "execution_count": 15,
   "metadata": {},
   "outputs": [
    {
     "name": "stdout",
     "output_type": "stream",
     "text": [
      "1\n",
      "54\n",
      "11\n",
      "0\n"
     ]
    }
   ],
   "source": [
    "json=jsons[0]\n",
    "\n",
    "print(is_account_created_after(json['user'][1]))\n",
    "print(get_following_to_follower_ratio(json['user'][1]))"
   ]
  },
  {
   "cell_type": "code",
   "execution_count": 8,
   "metadata": {},
   "outputs": [],
   "source": [
    "def is_account_created_after(jsonline):\n",
    "\n",
    "   # teste=[]\n",
    "    #for json in jsons:\n",
    "        #i= len(json)-1\n",
    "        #while(i>1):\n",
    "            fullDateArray=jsonline['created_at'].split()\n",
    "            shortDate= fullDateArray[2]+\" \"+fullDateArray[1]+\" \"+fullDateArray[5]\n",
    "            d1= datetime.strptime(shortDate,'%d %b %Y')\n",
    "            a= datetime(2018,6,15)\n",
    "            if(d1 > a):\n",
    "                return 1\n",
    "            else: \n",
    "                return 0\n",
    "        \n",
    "        \n"
   ]
  },
  {
   "cell_type": "code",
   "execution_count": 14,
   "metadata": {},
   "outputs": [],
   "source": [
    "def get_following_to_follower_ratio(jsonLine):\n",
    "    \n",
    "      \n",
    "            following=int(jsonLine['friends_count'])\n",
    "            followers=int(jsonLine['followers_count'])\n",
    "        \n",
    "            if(following-followers>400):\n",
    "                return 1\n",
    "            else:\n",
    "                return 0\n",
    "           "
   ]
  },
  {
   "cell_type": "code",
   "execution_count": null,
   "metadata": {},
   "outputs": [],
   "source": []
  }
 ],
 "metadata": {
  "kernelspec": {
   "display_name": "Python 3",
   "language": "python",
   "name": "python3"
  },
  "language_info": {
   "codemirror_mode": {
    "name": "ipython",
    "version": 3
   },
   "file_extension": ".py",
   "mimetype": "text/x-python",
   "name": "python",
   "nbconvert_exporter": "python",
   "pygments_lexer": "ipython3",
   "version": "3.8.1"
  }
 },
 "nbformat": 4,
 "nbformat_minor": 4
}
