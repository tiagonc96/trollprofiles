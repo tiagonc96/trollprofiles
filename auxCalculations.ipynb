{
 "cells": [
  {
   "cell_type": "code",
   "execution_count": 5,
   "metadata": {},
   "outputs": [
    {
     "name": "stdout",
     "output_type": "stream",
     "text": [
      "0.659849987463328\n"
     ]
    }
   ],
   "source": [
    "import numpy as np\n",
    "\n",
    "mean=[2352/668,200/677,69/294,296/601,492/920,54/340,36/275,357/331,1062/4197,154/952,12/80,212/510,103/515,41/292,4/41,33/171,877/103,177/773,64/354,34/344,19/346,119/651,273/687,198/4994,78/350,253/338,1445/2625,214/494,66/317,104/142,112/969,357/390,13/147,14/51,11/236,25/38,729/438]\n",
    "\n",
    "a=np.sum(mean)\n",
    "\n",
    "media= (a/len(mean))\n",
    "\n",
    "print(media)"
   ]
  },
  {
   "cell_type": "code",
   "execution_count": 2,
   "metadata": {},
   "outputs": [
    {
     "data": {
      "text/plain": [
       "3.5209580838323356"
      ]
     },
     "execution_count": 2,
     "metadata": {},
     "output_type": "execute_result"
    }
   ],
   "source": [
    "2352/668"
   ]
  },
  {
   "cell_type": "code",
   "execution_count": 15,
   "metadata": {},
   "outputs": [
    {
     "data": {
      "text/plain": [
       "280.85867620751344"
      ]
     },
     "execution_count": 15,
     "metadata": {},
     "output_type": "execute_result"
    }
   ],
   "source": [
    "157000/559"
   ]
  },
  {
   "cell_type": "code",
   "execution_count": null,
   "metadata": {},
   "outputs": [],
   "source": []
  }
 ],
 "metadata": {
  "kernelspec": {
   "display_name": "Python 3",
   "language": "python",
   "name": "python3"
  },
  "language_info": {
   "codemirror_mode": {
    "name": "ipython",
    "version": 3
   },
   "file_extension": ".py",
   "mimetype": "text/x-python",
   "name": "python",
   "nbconvert_exporter": "python",
   "pygments_lexer": "ipython3",
   "version": "3.8.2"
  }
 },
 "nbformat": 4,
 "nbformat_minor": 4
}
